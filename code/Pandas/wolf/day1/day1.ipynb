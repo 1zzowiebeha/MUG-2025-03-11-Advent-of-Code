{
 "cells": [
  {
   "cell_type": "code",
   "execution_count": 1,
   "id": "cb32f2ce-8c64-4349-91b0-b6c7e73e4ab5",
   "metadata": {},
   "outputs": [],
   "source": [
    "import pandas as pd"
   ]
  },
  {
   "cell_type": "code",
   "execution_count": 2,
   "id": "8ae0e3b4-9b69-4cbe-b595-86f3167b18a5",
   "metadata": {},
   "outputs": [],
   "source": [
    "# Read in the two lists.  We'll store them as two columns in the same DataFrame, `df`.\n",
    "# My input file is not included.  You can use your own.\n",
    "df = pd.read_csv(\"day1.input\", sep=r\"\\s+\", header=None, names=[\"left\", \"right\"])"
   ]
  },
  {
   "cell_type": "code",
   "execution_count": 3,
   "id": "d62e8c24-4461-4a9a-9596-7bd8f532612e",
   "metadata": {},
   "outputs": [
    {
     "name": "stdout",
     "output_type": "stream",
     "text": [
      "Day 1, part 1: the distance between the two lists is 2264607.\n"
     ]
    }
   ],
   "source": [
    "# Part 1\n",
    "\n",
    "# Each of the two lists must be sorted.\n",
    "df.left = df.left.sort_values(ignore_index=True)\n",
    "df.right = df.right.sort_values(ignore_index=True)\n",
    "\n",
    "# Create a new colum that is the distance, for each row of the lists, between the left and the right.\n",
    "df[\"distance\"] = (df.left - df.right).abs()\n",
    "\n",
    "# The answer for part 1 is the sum of all the distances.\n",
    "print(f\"Day 1, part 1: the distance between the two lists is {df.distance.sum()}.\")"
   ]
  },
  {
   "cell_type": "code",
   "execution_count": 4,
   "id": "91e9e920-4228-4579-ad73-3f296c2676e3",
   "metadata": {},
   "outputs": [
    {
     "name": "stdout",
     "output_type": "stream",
     "text": [
      "Day 1, part 2: the similarity score for the two lists is 19457120.\n"
     ]
    }
   ],
   "source": [
    "# Part 2\n",
    "\n",
    "# Build a dictionary where the keys are from the left list, and the values are the number of times\n",
    "# those values appeared in the right list. \n",
    "right_counts = df.right.value_counts()\n",
    "\n",
    "# Create a new column that is the similarity score, per value in the left column. `.get(x, 0)` looks\n",
    "# up the count, and returns `0` if it's not found (that key never appeared in the right list).\n",
    "df[\"similarity\"] = df.left * df.left.map(lambda x: right_counts.get(x, 0))\n",
    "\n",
    "# The answer for part 2 is the sum of all the similarities.\n",
    "print(f\"Day 1, part 2: the similarity score for the two lists is {df.similarity.sum()}.\")"
   ]
  }
 ],
 "metadata": {
  "kernelspec": {
   "display_name": "Python 3 (ipykernel)",
   "language": "python",
   "name": "python3"
  },
  "language_info": {
   "codemirror_mode": {
    "name": "ipython",
    "version": 3
   },
   "file_extension": ".py",
   "mimetype": "text/x-python",
   "name": "python",
   "nbconvert_exporter": "python",
   "pygments_lexer": "ipython3",
   "version": "3.13.0"
  }
 },
 "nbformat": 4,
 "nbformat_minor": 5
}
